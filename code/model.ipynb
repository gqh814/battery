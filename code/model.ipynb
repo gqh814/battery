{
 "cells": [
  {
   "cell_type": "code",
   "execution_count": null,
   "id": "52eca22e",
   "metadata": {},
   "outputs": [
    {
     "name": "stdout",
     "output_type": "stream",
     "text": [
      "The autoreload extension is already loaded. To reload it, use:\n",
      "  %reload_ext autoreload\n"
     ]
    }
   ],
   "source": [
    "%load_ext autoreload\n",
    "%autoreload 2\n",
    "from tools import EnergyStorageModel"
   ]
  },
  {
   "cell_type": "code",
   "execution_count": 30,
   "id": "476bcc04",
   "metadata": {},
   "outputs": [],
   "source": [
    "import numpy as np"
   ]
  },
  {
   "cell_type": "code",
   "execution_count": 40,
   "id": "60f55856",
   "metadata": {},
   "outputs": [
    {
     "name": "stdout",
     "output_type": "stream",
     "text": [
      "Converged in 1389 iterations.\n"
     ]
    }
   ],
   "source": [
    "# Example Usage:\n",
    "model = EnergyStorageModel(price_data_path='../data/entsoe_price_DK_1_20150101_20240101.csv')\n",
    "model.compute_price_transitions()\n",
    "V, P = model.value_function_iteration()"
   ]
  },
  {
   "cell_type": "code",
   "execution_count": 48,
   "id": "3a303c81",
   "metadata": {},
   "outputs": [
    {
     "name": "stdout",
     "output_type": "stream",
     "text": [
      "Converged in 146 iterations.\n"
     ]
    }
   ],
   "source": [
    "V2, P2 = model.vfi_vec()"
   ]
  },
  {
   "cell_type": "code",
   "execution_count": 49,
   "id": "83ceedc3",
   "metadata": {},
   "outputs": [
    {
     "name": "stdout",
     "output_type": "stream",
     "text": [
      "[[ 7.2  7.2  7.2  0.   0.   0.   0.   0.   0.   0.   0.   0. ]\n",
      " [ 7.2  7.2  7.2  0.   0.   0.   0.   0.   0.   0.   0.   0. ]\n",
      " [ 3.6  3.6  3.6  0.   0.   0.   0.   0.   0.   0.   0.   0. ]\n",
      " [ 3.6  3.6  3.6  3.6  0.   0.   0.   0.   0.   0.   0.   0. ]\n",
      " [ 3.6  3.6  3.6  0.   0.  -3.6 -3.6 -3.6 -3.6 -3.6 -3.6 -3.6]\n",
      " [ 3.6  3.6  3.6  0.   0.  -3.6 -3.6 -3.6 -3.6 -3.6 -3.6 -3.6]\n",
      " [ 0.   0.   0.   0.   0.  -3.6 -3.6 -3.6 -3.6 -3.6 -3.6 -3.6]\n",
      " [ 0.   0.   0.   0.   0.  -3.6 -3.6 -3.6 -3.6 -3.6 -3.6 -3.6]\n",
      " [ 0.   0.   0.   0.   0.  -7.2 -7.2 -7.2 -7.2 -7.2 -7.2 -7.2]\n",
      " [ 0.   0.   0.   0.   0.  -7.2 -7.2 -7.2 -7.2 -7.2 -7.2 -7.2]]\n",
      "[[4 4 0 0 0 0 0 0 0 0 0 0]\n",
      " [4 4 0 0 0 0 0 0 0 0 0 0]\n",
      " [4 4 0 0 0 0 0 0 0 0 0 0]\n",
      " [4 4 0 0 0 0 0 0 0 0 0 0]\n",
      " [4 4 0 0 0 0 0 0 0 0 0 0]\n",
      " [4 4 0 0 0 0 0 0 0 0 0 0]\n",
      " [4 4 0 0 0 0 0 0 0 0 0 0]\n",
      " [4 4 0 0 0 0 0 0 0 0 0 0]\n",
      " [4 4 0 0 0 0 0 0 0 0 0 0]\n",
      " [4 4 0 0 0 0 0 0 0 0 0 0]]\n"
     ]
    }
   ],
   "source": [
    "np.allclose(P, P2)\n",
    "print(P)\n",
    "print(P2)"
   ]
  },
  {
   "cell_type": "code",
   "execution_count": null,
   "id": "b1e75791",
   "metadata": {},
   "outputs": [],
   "source": [
    "battery_storage_sim, profit_sim = model.simulate()\n",
    "model.plot_results(battery_storage_sim, profit_sim)\n"
   ]
  },
  {
   "cell_type": "code",
   "execution_count": null,
   "id": "27757201",
   "metadata": {},
   "outputs": [],
   "source": []
  }
 ],
 "metadata": {
  "kernelspec": {
   "display_name": "base",
   "language": "python",
   "name": "python3"
  },
  "language_info": {
   "codemirror_mode": {
    "name": "ipython",
    "version": 3
   },
   "file_extension": ".py",
   "mimetype": "text/x-python",
   "name": "python",
   "nbconvert_exporter": "python",
   "pygments_lexer": "ipython3",
   "version": "3.11.7"
  }
 },
 "nbformat": 4,
 "nbformat_minor": 5
}
